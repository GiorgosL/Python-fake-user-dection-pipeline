{
 "cells": [
  {
   "cell_type": "code",
   "execution_count": 59,
   "metadata": {},
   "outputs": [],
   "source": [
    "import pandas as pd\n",
    "from sklearn import preprocessing\n",
    "import seaborn as sns\n",
    "import matplotlib. pyplot as plt\n",
    "from sklearn.model_selection import train_test_split\n",
    "import xgboost as xgb\n",
    "from sklearn.metrics import confusion_matrix\n",
    "from sklearn.metrics import roc_auc_score\n",
    "from sklearn.metrics import roc_curve\n",
    "from sklearn.metrics import auc"
   ]
  },
  {
   "cell_type": "markdown",
   "metadata": {},
   "source": [
    "## Label true and fake users concat the dfs and use only valuable columns"
   ]
  },
  {
   "cell_type": "code",
   "execution_count": 60,
   "metadata": {},
   "outputs": [],
   "source": [
    "def create_df():\n",
    "    true = pd.read_csv(\"users.csv\")\n",
    "    fake = pd.read_csv(\"fusers.csv\")\n",
    "    true['user_status'] = 1\n",
    "    fake['user_status'] = 0\n",
    "    cols = ['statuses_count','followers_count','friends_count','favourites_count','listed_count','lang','user_status']\n",
    "    df = pd.concat([true, fake])\n",
    "    df = df[cols]\n",
    "    print('True users in dataframe :', df['user_status'].value_counts()[1])\n",
    "    print('Fake users in dataframe :', df['user_status'].value_counts()[0])\n",
    "    print('Total users in the dataframe :', len(df))\n",
    "    print('Using the following features:', cols)\n",
    "    return df"
   ]
  },
  {
   "cell_type": "markdown",
   "metadata": {},
   "source": [
    "## Various classifications metrics in a single dataframe "
   ]
  },
  {
   "cell_type": "code",
   "execution_count": 61,
   "metadata": {},
   "outputs": [],
   "source": [
    "def binary_classification_performance(y_test, y_pred, model):\n",
    "    tn, fp, fn, tp = confusion_matrix(y_test, y_pred).ravel()\n",
    "    precision = tp / (tp + fp)\n",
    "    recall = tp / (tp + fn)\n",
    "    f1_score = 2 * precision * recall / (precision + recall) \n",
    "    auc_roc = round(roc_auc_score(y_score = y_pred, y_true = y_test),2)\n",
    "    model_name = model\n",
    "    result = pd.DataFrame({\n",
    "                         'Model' : [model_name],\n",
    "                         'Precision' : [precision],\n",
    "                         'Recall': [recall],\n",
    "                         'f1 score' : [f1_score],\n",
    "                         'AUC_ROC' : [auc_roc],\n",
    "                         'True Positive' : [tp],\n",
    "                         'True Negative' : [tn],\n",
    "                         'False Positive':[fp],\n",
    "                         'False Negative':[fn]\n",
    "                        })\n",
    "    return result"
   ]
  },
  {
   "cell_type": "markdown",
   "metadata": {},
   "source": [
    "## Plot the roc_auc curve "
   ]
  },
  {
   "cell_type": "code",
   "execution_count": 62,
   "metadata": {},
   "outputs": [],
   "source": [
    "def plot_roc_auc(y_test, y_pred):    \n",
    "    fpr, tpr, thresholds = roc_curve(y_test, y_pred)\n",
    "    roc_auc = roc_auc_score(y_test, y_pred)\n",
    "    plt.plot(fpr, tpr, label='ROC curve (area = %0.2f)' % roc_auc)\n",
    "    plt.title(\"ROC Curve\")\n",
    "    plt.xlabel(\"False Positive Rate\")\n",
    "    plt.ylabel(\"True Positive Rate\")\n",
    "    plt.legend(loc=\"lower right\")\n",
    "    plt.show()"
   ]
  },
  {
   "cell_type": "markdown",
   "metadata": {},
   "source": [
    "## Crate the dataframe\n",
    "## Use lable encoder on lang field to convert to numerical"
   ]
  },
  {
   "cell_type": "code",
   "execution_count": 82,
   "metadata": {},
   "outputs": [
    {
     "name": "stdout",
     "output_type": "stream",
     "text": [
      "True users in dataframe : 1481\n",
      "Fake users in dataframe : 1337\n",
      "Total users in the dataframe : 2818\n",
      "Using the following features: ['statuses_count', 'followers_count', 'friends_count', 'favourites_count', 'listed_count', 'lang', 'user_status']\n"
     ]
    }
   ],
   "source": [
    "df = create_df()\n",
    "## use label encoder on lang column to change to numerical\n",
    "le = preprocessing.LabelEncoder()\n",
    "df.lang = le.fit_transform(df.lang)"
   ]
  },
  {
   "cell_type": "markdown",
   "metadata": {},
   "source": [
    "## XGBoost modelling pipeline\n",
    "### 1.split the data into train and test\n",
    "### 2.fit the model\n",
    "### 3.use predict function\n",
    "### 4.call the auc function to plot roc_auc curve\n",
    "### 5.call the cm function to plot the confusion matrix"
   ]
  },
  {
   "cell_type": "code",
   "execution_count": 158,
   "metadata": {},
   "outputs": [],
   "source": [
    "class XGboost:\n",
    "    def _init_():\n",
    "        pass\n",
    "    \n",
    "    def _model(self):\n",
    "        self.model = xgb.XGBClassifier(random_state = 42)\n",
    "\n",
    "    def _split_data(self, df):\n",
    "        self.df = df\n",
    "        self.x = df.drop(['user_status'], axis=1)\n",
    "        self.y = df.user_status\n",
    "        self.X_train, self.X_test, self.y_train, self.y_test = train_test_split(self.x, self.y, test_size=0.30, random_state=42)\n",
    "        \n",
    "    def _fit_model(self):    \n",
    "        self.model.fit(X_train, self.y_train)\n",
    "\n",
    "    def _model_predict(self):\n",
    "        self.y_pred = self.model.predict(self.X_test)\n",
    "        \n",
    "    def _get_metrics(self):\n",
    "        return binary_classification_performance(self.y_test, self.y_pred, 'Test_metrics')\n",
    "    \n",
    "    def _get_auc(self):\n",
    "        return plot_roc_auc(self.y_test, self.y_pred)\n",
    "    \n",
    "    def _get_cm(self):\n",
    "        return sns.heatmap(confusion_matrix(self.y_test, self.y_pred), annot=True, fmt=\"d\")"
   ]
  },
  {
   "cell_type": "code",
   "execution_count": 159,
   "metadata": {},
   "outputs": [],
   "source": [
    "## initialize XGBoost model\n",
    "model = XGboost()"
   ]
  },
  {
   "cell_type": "code",
   "execution_count": 160,
   "metadata": {},
   "outputs": [],
   "source": [
    "model._model()"
   ]
  },
  {
   "cell_type": "code",
   "execution_count": 161,
   "metadata": {},
   "outputs": [],
   "source": [
    "## split dataframe\n",
    "model._split_data(df)"
   ]
  },
  {
   "cell_type": "code",
   "execution_count": 162,
   "metadata": {},
   "outputs": [],
   "source": [
    "## fit the model\n",
    "model._fit_model()"
   ]
  },
  {
   "cell_type": "code",
   "execution_count": 163,
   "metadata": {},
   "outputs": [],
   "source": [
    "## call predict function\n",
    "model._model_predict()"
   ]
  },
  {
   "cell_type": "code",
   "execution_count": 164,
   "metadata": {},
   "outputs": [
    {
     "data": {
      "text/html": [
       "<div>\n",
       "<style scoped>\n",
       "    .dataframe tbody tr th:only-of-type {\n",
       "        vertical-align: middle;\n",
       "    }\n",
       "\n",
       "    .dataframe tbody tr th {\n",
       "        vertical-align: top;\n",
       "    }\n",
       "\n",
       "    .dataframe thead th {\n",
       "        text-align: right;\n",
       "    }\n",
       "</style>\n",
       "<table border=\"1\" class=\"dataframe\">\n",
       "  <thead>\n",
       "    <tr style=\"text-align: right;\">\n",
       "      <th></th>\n",
       "      <th>Model</th>\n",
       "      <th>Precision</th>\n",
       "      <th>Recall</th>\n",
       "      <th>f1 score</th>\n",
       "      <th>AUC_ROC</th>\n",
       "      <th>True Positive</th>\n",
       "      <th>True Negative</th>\n",
       "      <th>False Positive</th>\n",
       "      <th>False Negative</th>\n",
       "    </tr>\n",
       "  </thead>\n",
       "  <tbody>\n",
       "    <tr>\n",
       "      <th>0</th>\n",
       "      <td>Test_metrics</td>\n",
       "      <td>0.99345</td>\n",
       "      <td>1.0</td>\n",
       "      <td>0.996714</td>\n",
       "      <td>1.0</td>\n",
       "      <td>455</td>\n",
       "      <td>388</td>\n",
       "      <td>3</td>\n",
       "      <td>0</td>\n",
       "    </tr>\n",
       "  </tbody>\n",
       "</table>\n",
       "</div>"
      ],
      "text/plain": [
       "          Model  Precision  Recall  f1 score  AUC_ROC  True Positive  \\\n",
       "0  Test_metrics    0.99345     1.0  0.996714      1.0            455   \n",
       "\n",
       "   True Negative  False Positive  False Negative  \n",
       "0            388               3               0  "
      ]
     },
     "execution_count": 164,
     "metadata": {},
     "output_type": "execute_result"
    }
   ],
   "source": [
    "## get the classification metrics\n",
    "model._get_metrics()"
   ]
  },
  {
   "cell_type": "code",
   "execution_count": 165,
   "metadata": {},
   "outputs": [
    {
     "data": {
      "image/png": "[encoded data removed]",
      "text/plain": [
       "<Figure size 432x288 with 1 Axes>"
      ]
     },
     "metadata": {
      "needs_background": "light"
     },
     "output_type": "display_data"
    }
   ],
   "source": [
    "## get the roc_auc curve\n",
    "model._get_auc()"
   ]
  },
  {
   "cell_type": "code",
   "execution_count": 167,
   "metadata": {},
   "outputs": [
    {
     "data": {
      "image/png": "[encoded data removed]",
      "text/plain": [
       "<Figure size 432x288 with 2 Axes>"
      ]
     },
     "metadata": {
      "needs_background": "light"
     },
     "output_type": "display_data"
    }
   ],
   "source": [
    "## get the confusion matrix\n",
    "model._get_cm()\n",
    "plt.show()"
   ]
  }
 ],
 "metadata": {
  "kernelspec": {
   "display_name": "Python 3",
   "language": "python",
   "name": "python3"
  },
  "language_info": {
   "codemirror_mode": {
    "name": "ipython",
    "version": 3
   },
   "file_extension": ".py",
   "mimetype": "text/x-python",
   "name": "python",
   "nbconvert_exporter": "python",
   "pygments_lexer": "ipython3",
   "version": "3.7.6"
  }
 },
 "nbformat": 4,
 "nbformat_minor": 4
}
